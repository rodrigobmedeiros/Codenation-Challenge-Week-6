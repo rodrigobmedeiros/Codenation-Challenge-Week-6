{
 "cells": [
  {
   "cell_type": "markdown",
   "metadata": {},
   "source": [
    "# Challenge 6\n",
    "\n",
    "In this challenge, we will practice _feature engineering_, one of the most important and laborious processes of ML. We will use the _data set_ [Countries of the world] (https://www.kaggle.com/fernandol/countries-of-the-world), which contains data on the 227 countries in the world with information on population size, area, immigration and production sectors.\n",
    "\n",
    "> Note: Please do not change the name of the response functions."
   ]
  },
  {
   "cell_type": "markdown",
   "metadata": {},
   "source": [
    "## _Setup_ geral"
   ]
  },
  {
   "cell_type": "code",
   "execution_count": 248,
   "metadata": {},
   "outputs": [],
   "source": [
    "import pandas as pd\n",
    "import numpy as np\n",
    "import seaborn as sns\n",
    "import sklearn as sk\n",
    "from sklearn.datasets import load_digits, fetch_20newsgroups\n",
    "from sklearn.decomposition import PCA\n",
    "from sklearn.feature_extraction.text import (\n",
    "    CountVectorizer, TfidfTransformer, TfidfVectorizer\n",
    ")\n",
    "from sklearn.impute import SimpleImputer\n",
    "from sklearn.pipeline import Pipeline\n",
    "from sklearn.preprocessing import (\n",
    "    OneHotEncoder, Binarizer, KBinsDiscretizer,\n",
    "    MinMaxScaler, StandardScaler, PolynomialFeatures\n",
    ")"
   ]
  },
  {
   "cell_type": "code",
   "execution_count": 249,
   "metadata": {},
   "outputs": [],
   "source": [
    "from IPython.core.pylabtools import figsize\n",
    "\n",
    "figsize(12, 8)\n",
    "\n",
    "sns.set()"
   ]
  },
  {
   "cell_type": "code",
   "execution_count": 250,
   "metadata": {
    "scrolled": false
   },
   "outputs": [],
   "source": [
    "countries = pd.read_csv(\"countries.csv\")"
   ]
  },
  {
   "cell_type": "code",
   "execution_count": 251,
   "metadata": {},
   "outputs": [
    {
     "data": {
      "text/html": [
       "<div>\n",
       "<style scoped>\n",
       "    .dataframe tbody tr th:only-of-type {\n",
       "        vertical-align: middle;\n",
       "    }\n",
       "\n",
       "    .dataframe tbody tr th {\n",
       "        vertical-align: top;\n",
       "    }\n",
       "\n",
       "    .dataframe thead th {\n",
       "        text-align: right;\n",
       "    }\n",
       "</style>\n",
       "<table border=\"1\" class=\"dataframe\">\n",
       "  <thead>\n",
       "    <tr style=\"text-align: right;\">\n",
       "      <th></th>\n",
       "      <th>Country</th>\n",
       "      <th>Region</th>\n",
       "      <th>Population</th>\n",
       "      <th>Area</th>\n",
       "      <th>Pop_density</th>\n",
       "      <th>Coastline_ratio</th>\n",
       "      <th>Net_migration</th>\n",
       "      <th>Infant_mortality</th>\n",
       "      <th>GDP</th>\n",
       "      <th>Literacy</th>\n",
       "      <th>Phones_per_1000</th>\n",
       "      <th>Arable</th>\n",
       "      <th>Crops</th>\n",
       "      <th>Other</th>\n",
       "      <th>Climate</th>\n",
       "      <th>Birthrate</th>\n",
       "      <th>Deathrate</th>\n",
       "      <th>Agriculture</th>\n",
       "      <th>Industry</th>\n",
       "      <th>Service</th>\n",
       "    </tr>\n",
       "  </thead>\n",
       "  <tbody>\n",
       "    <tr>\n",
       "      <th>0</th>\n",
       "      <td>Afghanistan</td>\n",
       "      <td>ASIA (EX. NEAR EAST)</td>\n",
       "      <td>31056997</td>\n",
       "      <td>647500</td>\n",
       "      <td>48,0</td>\n",
       "      <td>0,00</td>\n",
       "      <td>23,06</td>\n",
       "      <td>163,07</td>\n",
       "      <td>700.0</td>\n",
       "      <td>36,0</td>\n",
       "      <td>3,2</td>\n",
       "      <td>12,13</td>\n",
       "      <td>0,22</td>\n",
       "      <td>87,65</td>\n",
       "      <td>1</td>\n",
       "      <td>46,6</td>\n",
       "      <td>20,34</td>\n",
       "      <td>0,38</td>\n",
       "      <td>0,24</td>\n",
       "      <td>0,38</td>\n",
       "    </tr>\n",
       "    <tr>\n",
       "      <th>1</th>\n",
       "      <td>Albania</td>\n",
       "      <td>EASTERN EUROPE</td>\n",
       "      <td>3581655</td>\n",
       "      <td>28748</td>\n",
       "      <td>124,6</td>\n",
       "      <td>1,26</td>\n",
       "      <td>-4,93</td>\n",
       "      <td>21,52</td>\n",
       "      <td>4500.0</td>\n",
       "      <td>86,5</td>\n",
       "      <td>71,2</td>\n",
       "      <td>21,09</td>\n",
       "      <td>4,42</td>\n",
       "      <td>74,49</td>\n",
       "      <td>3</td>\n",
       "      <td>15,11</td>\n",
       "      <td>5,22</td>\n",
       "      <td>0,232</td>\n",
       "      <td>0,188</td>\n",
       "      <td>0,579</td>\n",
       "    </tr>\n",
       "    <tr>\n",
       "      <th>2</th>\n",
       "      <td>Algeria</td>\n",
       "      <td>NORTHERN AFRICA</td>\n",
       "      <td>32930091</td>\n",
       "      <td>2381740</td>\n",
       "      <td>13,8</td>\n",
       "      <td>0,04</td>\n",
       "      <td>-0,39</td>\n",
       "      <td>31</td>\n",
       "      <td>6000.0</td>\n",
       "      <td>70,0</td>\n",
       "      <td>78,1</td>\n",
       "      <td>3,22</td>\n",
       "      <td>0,25</td>\n",
       "      <td>96,53</td>\n",
       "      <td>1</td>\n",
       "      <td>17,14</td>\n",
       "      <td>4,61</td>\n",
       "      <td>0,101</td>\n",
       "      <td>0,6</td>\n",
       "      <td>0,298</td>\n",
       "    </tr>\n",
       "    <tr>\n",
       "      <th>3</th>\n",
       "      <td>American Samoa</td>\n",
       "      <td>OCEANIA</td>\n",
       "      <td>57794</td>\n",
       "      <td>199</td>\n",
       "      <td>290,4</td>\n",
       "      <td>58,29</td>\n",
       "      <td>-20,71</td>\n",
       "      <td>9,27</td>\n",
       "      <td>8000.0</td>\n",
       "      <td>97,0</td>\n",
       "      <td>259,5</td>\n",
       "      <td>10</td>\n",
       "      <td>15</td>\n",
       "      <td>75</td>\n",
       "      <td>2</td>\n",
       "      <td>22,46</td>\n",
       "      <td>3,27</td>\n",
       "      <td>NaN</td>\n",
       "      <td>NaN</td>\n",
       "      <td>NaN</td>\n",
       "    </tr>\n",
       "    <tr>\n",
       "      <th>4</th>\n",
       "      <td>Andorra</td>\n",
       "      <td>WESTERN EUROPE</td>\n",
       "      <td>71201</td>\n",
       "      <td>468</td>\n",
       "      <td>152,1</td>\n",
       "      <td>0,00</td>\n",
       "      <td>6,6</td>\n",
       "      <td>4,05</td>\n",
       "      <td>19000.0</td>\n",
       "      <td>100,0</td>\n",
       "      <td>497,2</td>\n",
       "      <td>2,22</td>\n",
       "      <td>0</td>\n",
       "      <td>97,78</td>\n",
       "      <td>3</td>\n",
       "      <td>8,71</td>\n",
       "      <td>6,25</td>\n",
       "      <td>NaN</td>\n",
       "      <td>NaN</td>\n",
       "      <td>NaN</td>\n",
       "    </tr>\n",
       "  </tbody>\n",
       "</table>\n",
       "</div>"
      ],
      "text/plain": [
       "           Country                               Region  Population     Area  \\\n",
       "0     Afghanistan         ASIA (EX. NEAR EAST)             31056997   647500   \n",
       "1         Albania   EASTERN EUROPE                          3581655    28748   \n",
       "2         Algeria   NORTHERN AFRICA                        32930091  2381740   \n",
       "3  American Samoa   OCEANIA                                   57794      199   \n",
       "4         Andorra   WESTERN EUROPE                            71201      468   \n",
       "\n",
       "  Pop_density Coastline_ratio Net_migration Infant_mortality      GDP  \\\n",
       "0        48,0            0,00         23,06           163,07    700.0   \n",
       "1       124,6            1,26         -4,93            21,52   4500.0   \n",
       "2        13,8            0,04         -0,39               31   6000.0   \n",
       "3       290,4           58,29        -20,71             9,27   8000.0   \n",
       "4       152,1            0,00           6,6             4,05  19000.0   \n",
       "\n",
       "  Literacy Phones_per_1000 Arable Crops  Other Climate Birthrate Deathrate  \\\n",
       "0     36,0             3,2  12,13  0,22  87,65       1      46,6     20,34   \n",
       "1     86,5            71,2  21,09  4,42  74,49       3     15,11      5,22   \n",
       "2     70,0            78,1   3,22  0,25  96,53       1     17,14      4,61   \n",
       "3     97,0           259,5     10    15     75       2     22,46      3,27   \n",
       "4    100,0           497,2   2,22     0  97,78       3      8,71      6,25   \n",
       "\n",
       "  Agriculture Industry Service  \n",
       "0        0,38     0,24    0,38  \n",
       "1       0,232    0,188   0,579  \n",
       "2       0,101      0,6   0,298  \n",
       "3         NaN      NaN     NaN  \n",
       "4         NaN      NaN     NaN  "
      ]
     },
     "execution_count": 251,
     "metadata": {},
     "output_type": "execute_result"
    }
   ],
   "source": [
    "new_column_names = [\n",
    "    \"Country\", \"Region\", \"Population\", \"Area\", \"Pop_density\", \"Coastline_ratio\",\n",
    "    \"Net_migration\", \"Infant_mortality\", \"GDP\", \"Literacy\", \"Phones_per_1000\",\n",
    "    \"Arable\", \"Crops\", \"Other\", \"Climate\", \"Birthrate\", \"Deathrate\", \"Agriculture\",\n",
    "    \"Industry\", \"Service\"\n",
    "]\n",
    "\n",
    "countries.columns = new_column_names"
   ]
  },
  {
   "cell_type": "markdown",
   "metadata": {},
   "source": [
    "# Comments\n",
    "This data set still needs some initial adjustments. First, note that numeric variables are using a comma as a decimal separator and are encoded as strings. Correct this before proceeding: make these variables numeric accordingly.\n",
    "\n",
    "In addition, the Country and Region variables have extra spaces at the beginning and end of the string. You can use the str.strip () method to remove these spaces."
   ]
  },
  {
   "cell_type": "markdown",
   "metadata": {},
   "source": [
    "# Creating a FeaturesMagic class\n",
    "\n",
    "I created this class in order to support the solution of the issues, thinking about reusability, modularization, code encapsulation and abstraction of several procedures."
   ]
  },
  {
   "cell_type": "code",
   "execution_count": 304,
   "metadata": {},
   "outputs": [],
   "source": [
    "class FeaturesMagic(object):\n",
    "    \"\"\"\n",
    "    this class was developed to create, modify and makes features become awesome for future analysis.\n",
    "    \"\"\"\n",
    "    \n",
    "    def __init__(self, df):\n",
    "        \n",
    "        self.df = df.copy()\n",
    "        # The definition of the specific pipeline can be kept here or maybe, be abstracted to another class in order to\n",
    "        # organize the code and modify it easily.\n",
    "        self.pipeline = Pipeline(steps=[('imputer', SimpleImputer(strategy='median')), ('standardization', StandardScaler())])\n",
    "\n",
    "    def change_char(self, column_name, from_char, to_char, update_df=False):\n",
    "        \"\"\"\n",
    "        Method used to replace characters in a string columns.\n",
    "        \n",
    "        args:\n",
    "            column_name: column name to change characters.\n",
    "            from_char: character to be changed.\n",
    "            to_char: character to be inserted.\n",
    "            update_df: if True, self.df will be updated if False self.df will not be updated\n",
    "            \n",
    "        return:\n",
    "            changed_column: pd.series containing the column with the characters exchanged\n",
    "        \"\"\"\n",
    "        \n",
    "        changed_column = self.df[column_name].str.replace(from_char, to_char)\n",
    "        \n",
    "        if update_df:\n",
    "            \n",
    "            self.df[column_name] = changed_column\n",
    "        \n",
    "        return changed_column\n",
    "    \n",
    "    def convert_to_numeric(self, column_name, update_df=False):\n",
    "        \"\"\"\n",
    "        Method used to convert columns to numeric columns.\n",
    "        \n",
    "        args:\n",
    "            column_name: name of column to be changed.\n",
    "            update_df: if True, self.df will be updated if False self.df will not be updated\n",
    "            \n",
    "        return:\n",
    "            changed_column: pd.series with numerical column.\n",
    "        \"\"\"\n",
    "        \n",
    "        changed_column = pd.to_numeric(self.df[column_name])\n",
    "        \n",
    "        if update_df:\n",
    "            \n",
    "            self.df[column_name] = changed_column\n",
    "           \n",
    "        return changed_column\n",
    "            \n",
    "    def remove_extra_space(self, column_name, update_df=False):\n",
    "        \"\"\"\n",
    "        Method used to remove extra space from entries of a given column.\n",
    "        \n",
    "        args:\n",
    "            column_name: name of column to be spaces removed.\n",
    "            update_df: if True, self.df will be updated if False self.df will not be updated\n",
    "            \n",
    "        return:\n",
    "            changed_column: pd.series with entries without extra spaces.\n",
    "        \"\"\"\n",
    "        \n",
    "        changed_column = self.df[column_name].str.strip()\n",
    "        if  update_df:\n",
    "            \n",
    "            self.df[column_name] = changed_column\n",
    "            \n",
    "        \n",
    "        return changed_column\n",
    "        \n",
    "    def kbins_discretizer(self, column, n_bins, encode, strategy):\n",
    "        \"\"\"\n",
    "        Method used to divide column values into specific ranges using K Bins Discretizer method. \n",
    "        \n",
    "        args:\n",
    "            column: name of column to apply the method.\n",
    "            n_bins: number of divisions.\n",
    "            encode: Method used to encode the transformed result.\n",
    "                    onehot\n",
    "                        Encode the transformed result with one-hot encoding\n",
    "                        and return a sparse matrix. Ignored features are always\n",
    "                        stacked to the right.\n",
    "                    onehot-dense\n",
    "                        Encode the transformed result with one-hot encoding\n",
    "                        and return a dense array. Ignored features are always\n",
    "                        stacked to the right.\n",
    "                    ordinal\n",
    "                        Return the bin identifier encoded as an integer value.\n",
    "            strategy : {'uniform', 'quantile', 'kmeans'}, (default='quantile') Strategy used to define the widths of the bins.\n",
    "\n",
    "                    uniform\n",
    "                        All bins in each feature have identical widths.\n",
    "                    quantile\n",
    "                        All bins in each feature have the same number of points.\n",
    "                    kmeans\n",
    "                        Values in each bin have the same nearest center of a 1D k-means\n",
    "                        cluster.\n",
    "            \n",
    "        return:\n",
    "            score: Values of each associated bin\n",
    "            bin_edges: The edges of each bin.\n",
    "        \"\"\"\n",
    "        \n",
    "        discretizer = KBinsDiscretizer(n_bins=n_bins, encode=encode, strategy=strategy)\n",
    "        discretizer.fit(self.df[[column]])\n",
    "        score = discretizer.transform(self.df[[column]])[:, 0]\n",
    "        bin_edges = discretizer.bin_edges_[0]\n",
    "        \n",
    "        return score, bin_edges\n",
    "    \n",
    "    def one_hot_encoder(self, column, sparse, dtype, update_df=False):\n",
    "        \"\"\"\n",
    "        Method used to remove extra space from entries of a given column.\n",
    "        \n",
    "        args:\n",
    "            column: name of column to apply the method.\n",
    "            sparse: if True, return a sparse matrix if False, return a completely filled matrix.\n",
    "            dtype: data structure used into new columns.\n",
    "            \n",
    "        return:\n",
    "            encoded_values: matrix with correlation between original values and encoded values.\n",
    "            encoded_columns:name of columns created by one_hot_encoder method.\n",
    "        \"\"\"\n",
    "        one_hot_encoder = OneHotEncoder(sparse=sparse, dtype=dtype)\n",
    "        encoded_values = one_hot_encoder.fit_transform(self.df[[column]].fillna('nan'))\n",
    "        encoded_columns = one_hot_encoder.categories_[0]\n",
    "        \n",
    "        if update_df:\n",
    "            \n",
    "            self.df = pd.concat([self.df, pd.DataFrame(encoded_values, columns=encoded_columns)], axis=1)\n",
    "        \n",
    "        return encoded_values, encoded_columns\n",
    "        \n",
    "    def pipeline_fit(self, columns):\n",
    "        \"\"\"\n",
    "        Method used to fit the pipeline with data.\n",
    "        \n",
    "        args:\n",
    "            columns: single column or list of columns to fit the model following the defined pipeline\n",
    "            \n",
    "        return:\n",
    "            self.pipeline: return the fitted pipeline object.\n",
    "        \"\"\"\n",
    "        \n",
    "        self.pipeline.fit(self.df[columns])\n",
    "        print('Pipeline was fitted...')\n",
    "        return self.pipeline\n",
    "    \n",
    "    def pipeline_transform(self, data):\n",
    "        \"\"\"\n",
    "        Method used to tranform data using the defined pipeline.\n",
    "        \n",
    "        args:\n",
    "            data: data frame to apply the transformation.\n",
    "            \n",
    "        return:\n",
    "            columns_tranformed: updated values with the transformation.\n",
    "        \"\"\"\n",
    "        columns_transformed = self.pipeline.transform(data)\n",
    "        print('Data was transformed...')\n",
    "        return columns_transformed\n",
    "        "
   ]
  },
  {
   "cell_type": "code",
   "execution_count": 305,
   "metadata": {},
   "outputs": [],
   "source": [
    "# instancing a FeaturesMagic object\n",
    "feat = FeaturesMagic(countries)"
   ]
  },
  {
   "cell_type": "code",
   "execution_count": 306,
   "metadata": {},
   "outputs": [],
   "source": [
    "# Feature treatment using the FeaturesMagic Class\n",
    "# Replace , for . and transform to numerical values\n",
    "\n",
    "# Define columns to modify.\n",
    "columns_to_convert = ['Pop_density', 'Coastline_ratio', 'Net_migration', 'Infant_mortality', 'Literacy', 'Phones_per_1000',\n",
    "                     'Arable', 'Crops', 'Other', 'Birthrate', 'Deathrate', 'Agriculture', 'Industry', 'Service']\n",
    "\n",
    "# Change char and convert to numerical columns using FeaturesMagic methods.\n",
    "for column in columns_to_convert:\n",
    "\n",
    "    feat.change_char(column, ',', '.', update_df=True)\n",
    "    feat.convert_to_numeric(column, update_df=True)\n",
    "\n",
    "# Define columns to extract extra spaces\n",
    "columns_to_remove_spaces = ['Region', 'Country']\n",
    "\n",
    "# Remove extra spaces.\n",
    "for column in columns_to_remove_spaces:\n",
    "    \n",
    "    feat.remove_extra_space(column, update_df=True)"
   ]
  },
  {
   "cell_type": "markdown",
   "metadata": {},
   "source": [
    "## Question 1\n",
    "\n",
    "What are the regions (variable `Region`) present in the _data set_? Return a list with the unique regions of the _data set_ with the spaces in front and behind the string removed (but keep punctuation: period, hyphen etc) and sorted in alphabetical order."
   ]
  },
  {
   "cell_type": "code",
   "execution_count": 307,
   "metadata": {},
   "outputs": [],
   "source": [
    "def q1():\n",
    "    # After remove extra spaces from Region column, just apply a method to get unique values, get the index and sort it\n",
    "    # To finish converto to list just to answer the question in a right way.\n",
    "    return feat.df['Region'].value_counts().index.sort_values().tolist()"
   ]
  },
  {
   "cell_type": "markdown",
   "metadata": {},
   "source": [
    "## Question 2\n",
    "\n",
    "Discretizing the variable `Pop_density` in 10 intervals with` KBinsDiscretizer`, following the encode `ordinal` and strategy` quantile`, how many countries are above the 90th percentile? Respond as a single integer scalar."
   ]
  },
  {
   "cell_type": "code",
   "execution_count": 308,
   "metadata": {},
   "outputs": [],
   "source": [
    "def q2():\n",
    "    # To calculate how many countries are above 90° percentil we just have to calculate the number of True statment when\n",
    "    # score equals the maximun value.\n",
    "    score, bin_edges = feat.kbins_discretizer('Pop_density', n_bins=10, encode='ordinal', strategy='quantile')\n",
    "    return sum(score == score.max())"
   ]
  },
  {
   "cell_type": "markdown",
   "metadata": {},
   "source": [
    "# Question 3\n",
    "\n",
    "If we code the `Region` and` Climate` variables using _one-hot encoding_, how many new attributes would be created? Respond as a single scalar."
   ]
  },
  {
   "cell_type": "code",
   "execution_count": 309,
   "metadata": {},
   "outputs": [],
   "source": [
    "def q3():\n",
    "    # After apply the one hot encoder method, to know how many features will be included, just sum the number of columns\n",
    "    # from \"Region\" and \"Climate\" results.\n",
    "    region_encoded_values, region_encoded_columns = feat.one_hot_encoder('Region', False, np.int, False)\n",
    "    climate_encoded_values, climate_encoded_columns = feat.one_hot_encoder('Climate', False, np.int, False)\n",
    "    return region_encoded_values.shape[1] + climate_encoded_values.shape[1]"
   ]
  },
  {
   "cell_type": "markdown",
   "metadata": {},
   "source": [
    "## Question 4\n",
    "\n",
    "Apply the following _pipeline_:\n",
    "\n",
    "1. Fill in the variables of type `int64` and` float64` with their respective medians.\n",
    "2. Standardize these variables.\n",
    "\n",
    "After applying the _pipeline_ described above to the data (only for variables of the specified types), apply the same _pipeline_ (or `ColumnTransformer`) to the data below. What is the value of the variable `Arable` after _pipeline_? Respond as a single float rounded to three decimal places."
   ]
  },
  {
   "cell_type": "code",
   "execution_count": 310,
   "metadata": {},
   "outputs": [],
   "source": [
    "test_country = [[\n",
    "    'Test Country', 'NEAR EAST', -0.19032480757326514,\n",
    "    -0.3232636124824411, -0.04421734470810142, -0.27528113360605316,\n",
    "    0.13255850810281325, -0.8054845935643491, 1.0119784924248225,\n",
    "    0.6189182532646624, 1.0074863283776458, 0.20239896852403538,\n",
    "    -0.043678728558593366, -0.13929748680369286, 1.3163604645710438,\n",
    "    -0.3699637766938669, -0.6149300604558857, -0.854369594993175,\n",
    "    0.263445277972641, 0.5712416961268142\n",
    "]]"
   ]
  },
  {
   "cell_type": "code",
   "execution_count": 311,
   "metadata": {},
   "outputs": [
    {
     "name": "stdout",
     "output_type": "stream",
     "text": [
      "Pipeline was fitted...\n",
      "Data was transformed...\n"
     ]
    }
   ],
   "source": [
    "# get numerical columns from feat.df (countries).\n",
    "numerical_columns = feat.df.dtypes[feat.df.dtypes != 'object'].index.tolist()\n",
    "\n",
    "#Fitting the pipeline with feat.df values\n",
    "feat.pipeline_fit(numerical_columns)\n",
    "\n",
    "# Create DataFrame from new country data\n",
    "new_country = pd.DataFrame(data=np.array(test_country), columns=feat.df.columns.tolist())\n",
    "\n",
    "# Create a DataFrame with transformed data.\n",
    "new_country_transf = feat.pipeline_transform(new_country[numerical_columns])\n",
    "new_country_transf = pd.DataFrame(new_country_transf, columns=numerical_columns)"
   ]
  },
  {
   "cell_type": "code",
   "execution_count": 312,
   "metadata": {},
   "outputs": [],
   "source": [
    "def q4():\n",
    "    # Choose to use .loc just to get the value from new country 'Arable' column\n",
    "    return new_country_transf.loc[0, 'Arable'].round(3)\n",
    "    pass"
   ]
  },
  {
   "cell_type": "markdown",
   "metadata": {},
   "source": [
    "## Question 5\n",
    "\n",
    "\n",
    "Find out the number of _outliers_ of the `Net_migration` variable according to the _boxplot_ method, that is, using logic:\n",
    "\n",
    "$$x \\notin [Q1 - 1.5 \\times \\text{IQR}, Q3 + 1.5 \\times \\text{IQR}] \\Rightarrow x \\text{ is outlier}$$\n",
    "\n",
    "that are in the lower group and the upper group.\n",
    "\n",
    "Should you remove comments considered _outliers_ according to this method from analysis? Respond as a three element tuple `(outliers_above, outliers_above, would you remove?)` ((Int, int, bool))."
   ]
  },
  {
   "cell_type": "code",
   "execution_count": 314,
   "metadata": {},
   "outputs": [
    {
     "data": {
      "image/png": "[encoded data removed]",
      "text/plain": [
       "<Figure size 864x576 with 1 Axes>"
      ]
     },
     "metadata": {},
     "output_type": "display_data"
    }
   ],
   "source": [
    "net_migration = feat.df['Net_migration']\n",
    "sns.boxplot(net_migration, orient='vertical');"
   ]
  },
  {
   "cell_type": "code",
   "execution_count": 315,
   "metadata": {},
   "outputs": [
    {
     "name": "stdout",
     "output_type": "stream",
     "text": [
      "Faixa considerada \"normal\": [-3.8149999999999995, 3.885]\n",
      "% of outliers = 22.32%\n"
     ]
    }
   ],
   "source": [
    "q_025 = net_migration.quantile(0.25)\n",
    "q_075 = net_migration.quantile(0.75)\n",
    "iqr = q_075 - q_025\n",
    "\n",
    "non_outlier_interval_iqr = [q_025 - 1.5  * iqr, q_075 + 1.5 * iqr]\n",
    "print(f\"Faixa considerada \\\"normal\\\": {non_outlier_interval_iqr}\")\n",
    "\n",
    "outliers_below = net_migration[(net_migration < non_outlier_interval_iqr[0])]\n",
    "outliers_above = net_migration[(net_migration > non_outlier_interval_iqr[1])]\n",
    "\n",
    "n_outliers = outliers_below.count() + outliers_above.count()\n",
    "n_net_migration = net_migration.count()\n",
    "\n",
    "print('% of outliers = {}%'.format((n_outliers / n_net_migration).round(4) * 100))"
   ]
  },
  {
   "cell_type": "markdown",
   "metadata": {},
   "source": [
    "Only with iqr analysis and not knowing for sure what the natural limits for the 'net_migration' variable would be, I would not remove outliers for now."
   ]
  },
  {
   "cell_type": "code",
   "execution_count": 316,
   "metadata": {},
   "outputs": [],
   "source": [
    "def q5():\n",
    "    return outliers_below.count(), outliers_above.count(), False\n",
    "    "
   ]
  },
  {
   "cell_type": "markdown",
   "metadata": {},
   "source": [
    "## Question 6\n",
    "\n",
    "For questions 6 and 7 use the `fetch_20newsgroups` library of` sklearn` test datasets\n",
    "\n",
    "Consider uploading the following categories and the `newsgroups` dataset:\n",
    "\n",
    "``\n",
    "categories = ['sci.electronics', 'comp.graphics', 'rec.motorcycles']\n",
    "newsgroup = fetch_20newsgroups (subset = \"train\", categories = categories, shuffle = True, random_state = 42)\n",
    "``\n",
    "\n",
    "\n",
    "Apply `CountVectorizer` to the _data set_` newsgroups` and find out the number of times the word _phone_ appears in the corpus. Respond as a single scalar."
   ]
  },
  {
   "cell_type": "code",
   "execution_count": 317,
   "metadata": {},
   "outputs": [],
   "source": [
    "categories = ['sci.electronics', 'comp.graphics', 'rec.motorcycles']\n",
    "newsgroup = fetch_20newsgroups(subset='train', categories=categories, shuffle=True, random_state=42)"
   ]
  },
  {
   "cell_type": "code",
   "execution_count": 318,
   "metadata": {},
   "outputs": [],
   "source": [
    "count_vectorizer = CountVectorizer()\n",
    "newsgroups_counts = count_vectorizer.fit_transform(newsgroup.data)\n",
    "\n",
    "words_frequence_df = pd.DataFrame(newsgroups_counts.toarray(), columns=np.array(count_vectorizer.get_feature_names()))\n",
    "\n",
    "count_phone = words_frequence_df['phone'].sum()"
   ]
  },
  {
   "cell_type": "code",
   "execution_count": 319,
   "metadata": {},
   "outputs": [],
   "source": [
    "def q6():\n",
    "    return count_phone"
   ]
  },
  {
   "cell_type": "markdown",
   "metadata": {},
   "source": [
    "## Question 7\n",
    "\n",
    "Apply `TfidfVectorizer` to the _data set_` newsgroups` and discover the TF-IDF of the word _phone_. Respond as a single scalar rounded to three decimal places."
   ]
  },
  {
   "cell_type": "code",
   "execution_count": 320,
   "metadata": {},
   "outputs": [],
   "source": [
    "tfidf_vectorizer = TfidfVectorizer()\n",
    "tfidf_vectorizer.fit(newsgroup.data)\n",
    "\n",
    "newsgroup_tfidf_vectorized = tfidf_vectorizer.transform(newsgroup.data)\n",
    "newsgroup_tfidf_df = pd.DataFrame(newsgroup_tfidf_vectorized.toarray(), columns=np.array(count_vectorizer.get_feature_names()))\n",
    "\n",
    "tf_idf_phone = newsgroup_tfidf_df['phone']\n",
    "total_tf_idf_phone = tf_idf_phone.sum().round(3)"
   ]
  },
  {
   "cell_type": "code",
   "execution_count": 321,
   "metadata": {},
   "outputs": [],
   "source": [
    "def q7():\n",
    "    return total_tf_idf_phone"
   ]
  }
 ],
 "metadata": {
  "kernelspec": {
   "display_name": "Python 3",
   "language": "python",
   "name": "python3"
  },
  "language_info": {
   "codemirror_mode": {
    "name": "ipython",
    "version": 3
   },
   "file_extension": ".py",
   "mimetype": "text/x-python",
   "name": "python",
   "nbconvert_exporter": "python",
   "pygments_lexer": "ipython3",
   "version": "3.7.6"
  }
 },
 "nbformat": 4,
 "nbformat_minor": 2
}
